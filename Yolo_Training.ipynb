{
  "nbformat": 4,
  "nbformat_minor": 0,
  "metadata": {
    "colab": {
      "name": "Train_YoloV3_ temp.ipynb",
      "provenance": [],
      "collapsed_sections": []
    },
    "kernelspec": {
      "display_name": "Python 3",
      "name": "python3"
    },
    "accelerator": "GPU"
  },
  "cells": [
    {
      "cell_type": "markdown",
      "metadata": {
        "id": "1-KHXphc2P4p"
      },
      "source": [
        "# Object Detection on Custom Data. 😎️"
      ]
    },
    {
      "cell_type": "markdown",
      "metadata": {
        "id": "wHBQcQzjD6HJ"
      },
      "source": [
        "**#Just GPU Things**"
      ]
    },
    {
      "cell_type": "code",
      "metadata": {
        "id": "bwp6NIrsZZFP"
      },
      "source": [
        "# Check if NVIDIA GPU is enabled\n",
        "!nvidia-smi"
      ],
      "execution_count": null,
      "outputs": []
    },
    {
      "cell_type": "markdown",
      "metadata": {
        "id": "6OfZAsUKwAYq"
      },
      "source": [
        "**Accessing Google Drive**"
      ]
    },
    {
      "cell_type": "code",
      "metadata": {
        "id": "9e9ZW3sqMEPO"
      },
      "source": [
        "from google.colab import drive\n",
        "drive.mount('/content/gdrive')"
      ],
      "execution_count": null,
      "outputs": []
    },
    {
      "cell_type": "markdown",
      "metadata": {
        "id": "ksxAsxEswG1u"
      },
      "source": [
        "**List of items in your \"gdrive\"**"
      ]
    },
    {
      "cell_type": "code",
      "metadata": {
        "id": "vHWTec6Uv-rU"
      },
      "source": [
        "!ln -s /content/gdrive/My\\ Drive/ /mydrive\n",
        "!ls /mydrive"
      ],
      "execution_count": null,
      "outputs": []
    },
    {
      "cell_type": "markdown",
      "metadata": {
        "id": "t7utW4in4azV"
      },
      "source": [
        "**1) Clone the Darknet**\n",
        "\n"
      ]
    },
    {
      "cell_type": "markdown",
      "metadata": {
        "id": "DRraFw8XwY9N"
      },
      "source": [
        "**Let's go Dark.**\n",
        "As we will clone the darknet you may not be able to see it in your drive page, but you can explore it using linux commands(ie. cd / ls etc)."
      ]
    },
    {
      "cell_type": "code",
      "metadata": {
        "id": "e03U7Zi-qMr2"
      },
      "source": [
        "!git clone https://github.com/AlexeyAB/darknet"
      ],
      "execution_count": null,
      "outputs": []
    },
    {
      "cell_type": "markdown",
      "metadata": {
        "id": "7gDOF3mU-TAn"
      },
      "source": [
        "**2) Now let's set the darknet with GPU.**\n"
      ]
    },
    {
      "cell_type": "code",
      "metadata": {
        "id": "5H-Taj06Tw1c"
      },
      "source": [
        "# change makefile to have GPU and OPENCV enabled\n",
        "%cd darknet\n",
        "!sed -i 's/OPENCV=0/OPENCV=1/' Makefile\n",
        "!sed -i 's/GPU=0/GPU=1/' Makefile\n",
        "!sed -i 's/CUDNN=0/CUDNN=1/' Makefile\n",
        "!make"
      ],
      "execution_count": null,
      "outputs": []
    },
    {
      "cell_type": "markdown",
      "metadata": {
        "id": "gAOLtA_qI9vF"
      },
      "source": [
        "**3) Configure Darknet network for training YOLO V3**\n",
        "\n",
        "We will copy the \"yolov3-tiny.cfg\" file from cfg directory to \"yolov3_training.cfg\"."
      ]
    },
    {
      "cell_type": "code",
      "metadata": {
        "id": "s-RpscgU853t"
      },
      "source": [
        "!cp cfg/yolov3-tiny.cfg cfg/yolov3_training.cfg"
      ],
      "execution_count": null,
      "outputs": []
    },
    {
      "cell_type": "markdown",
      "metadata": {
        "id": "-0tYwDzm0BkG"
      },
      "source": [
        "**Let's edit some configurations of the cfg file.**(pun)"
      ]
    },
    {
      "cell_type": "code",
      "metadata": {
        "id": "5ZgVQRop_vwR"
      },
      "source": [
        "!sed -i 's/batch=1/batch=64/' cfg/yolov3_training.cfg\n",
        "!sed -i 's/subdivisions=1/subdivisions=16/' cfg/yolov3_training.cfg\n",
        "!sed -i 's/max_batches = 500200/max_batches = 4000/' cfg/yolov3_training.cfg\n",
        "!sed -i '610 s@classes=80@classes=1@' cfg/yolov3_training.cfg\n",
        "!sed -i '696 s@classes=80@classes=1@' cfg/yolov3_training.cfg\n",
        "!sed -i '783 s@classes=80@classes=1@' cfg/yolov3_training.cfg\n",
        "!sed -i '603 s@filters=255@filters=18@' cfg/yolov3_training.cfg\n",
        "!sed -i '689 s@filters=255@filters=18@' cfg/yolov3_training.cfg\n",
        "!sed -i '776 s@filters=255@filters=18@' cfg/yolov3_training.cfg"
      ],
      "execution_count": null,
      "outputs": []
    },
    {
      "cell_type": "markdown",
      "metadata": {
        "id": "Y4smy77e0pUi"
      },
      "source": [
        "**Let's create a folder named \"yolov3_w1\" to save the new weights.** (trash name, I know)"
      ]
    },
    {
      "cell_type": "code",
      "metadata": {
        "id": "nscRN-X2Mr3d"
      },
      "source": [
        "#@title\n",
        "# Create folder on google drive so that we can save there the weights\n",
        "!mkdir \"/mydrive/yolov3_w1\""
      ],
      "execution_count": null,
      "outputs": []
    },
    {
      "cell_type": "markdown",
      "metadata": {
        "id": "_BgRHvf03lug"
      },
      "source": [
        "**We will make a file called \"obj.data\" in data directory that will keep all the classes names, here I have only used one class, so bear with me 😌️**"
      ]
    },
    {
      "cell_type": "code",
      "metadata": {
        "id": "7AIBw_psIclz"
      },
      "source": [
        "!echo \"Bucket\" > data/obj.names\n",
        "!echo -e 'classes= 1\\ntrain  = data/train.txt\\nvalid  = data/test.txt\\nnames = data/obj.names\\nbackup = /mydrive/yolov3_w1' > data/obj.data\n",
        "!mkdir data/obj"
      ],
      "execution_count": null,
      "outputs": []
    },
    {
      "cell_type": "markdown",
      "metadata": {
        "id": "44RnBOrV4koG"
      },
      "source": [
        "**For training we need a weight file to train and save it, let's use \"darknet53.conv.74\"**"
      ]
    },
    {
      "cell_type": "code",
      "metadata": {
        "id": "eZlkzFMW7I_N"
      },
      "source": [
        "# Download weights darknet model 53\n",
        "!wget https://pjreddie.com/media/files/darknet53.conv.74"
      ],
      "execution_count": null,
      "outputs": []
    },
    {
      "cell_type": "markdown",
      "metadata": {
        "id": "9RbVKJjoncW2"
      },
      "source": [
        "**4) Extract Images**"
      ]
    },
    {
      "cell_type": "markdown",
      "metadata": {
        "id": "w_td366R6Wuc"
      },
      "source": [
        "For that you have to upload the data(including image and label file) on drive.\n",
        "Now you have to edit the path in the given code."
      ]
    },
    {
      "cell_type": "code",
      "metadata": {
        "id": "jhb5nZvsQ_96"
      },
      "source": [
        "!unzip /mydrive/Falcon_Computer_Vision/new_dataset.zip -d data/obj"
      ],
      "execution_count": null,
      "outputs": []
    },
    {
      "cell_type": "code",
      "metadata": {
        "id": "DGUyXxeYX0IP"
      },
      "source": [
        "# We're going to convert the class index on the .txt files. As we're working with only one class, it's supposed to be class 0.\n",
        "# If the index is different from 0 then we're going to change it.\n",
        "import glob\n",
        "import os\n",
        "import re\n",
        "\n",
        "txt_file_paths = glob.glob(r\"data/obj/new_dataset/*.txt\")\n",
        "for i, file_path in enumerate(txt_file_paths):\n",
        "    # get image size\n",
        "    with open(file_path, \"r\") as f_o:\n",
        "        lines = f_o.readlines()\n",
        "\n",
        "        text_converted = []\n",
        "        for line in lines:\n",
        "            print(line)\n",
        "            numbers = re.findall(\"[0-9.]+\", line)\n",
        "            print(numbers)\n",
        "            if numbers:\n",
        "\n",
        "                # Define coordinates\n",
        "                text = \"{} {} {} {} {}\".format(0, numbers[1], numbers[2], numbers[3], numbers[4])\n",
        "                text_converted.append(text)\n",
        "                print(i, file_path)\n",
        "                print(text)\n",
        "        # Write file\n",
        "        with open(file_path, 'w') as fp:\n",
        "            for item in text_converted:\n",
        "                fp.writelines(\"%s\\n\" % item)"
      ],
      "execution_count": null,
      "outputs": []
    },
    {
      "cell_type": "code",
      "metadata": {
        "id": "5I_0ht7ITMUu"
      },
      "source": [
        "import glob\n",
        "images_list = glob.glob(\"data/obj/new_dataset/*.jpg\")\n",
        "\n",
        "## Perform Normalization!!!!!!!!!!!!!!!!!!!!!!!!!!!!!!!!!!!!!!!!!!!!!!!!!!!!!!!!!!!!!!!!!!!!!!!\n",
        "### I have not done it........\n",
        "\n",
        "print(images_list)"
      ],
      "execution_count": null,
      "outputs": []
    },
    {
      "cell_type": "code",
      "metadata": {
        "id": "EzygoAtMSnon"
      },
      "source": [
        "#Create train.txt file\n",
        "file = open(\"data/train.txt\", \"w\") \n",
        "file.write(\"\\n\".join(images_list)) \n",
        "file.close() "
      ],
      "execution_count": null,
      "outputs": []
    },
    {
      "cell_type": "markdown",
      "metadata": {
        "id": "CeSiuLrXoAjc"
      },
      "source": [
        "**6) Start the training**\n",
        "\n",
        "**Be patient and wait for it to converge, now what is \"converge\" please Google in your waiting time and utilize your time, atleast for now. 🙂️**"
      ]
    },
    {
      "cell_type": "code",
      "metadata": {
        "id": "S3_g3jclUzMm"
      },
      "source": [
        "# Start the training\n",
        "!./darknet detector train data/obj.data cfg/yolov3_training.cfg darknet53.conv.74 -dont_show"
      ],
      "execution_count": null,
      "outputs": []
    }
  ]
}